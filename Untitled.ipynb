{
 "cells": [
  {
   "cell_type": "markdown",
   "id": "3e25ef35",
   "metadata": {},
   "source": [
    "5 TASK-Simple Comparison of the two possible sub lists (taking every other number)
Using a greedy Heuristic
The app_setter function basically checks the input array with this two very simple algorithm and then compares the results. We chose this approach in order to shield the function from the vulnerabilities of the single algorithms since there are specific cases in which is possible to demonstrate the ineffectivness of the two. Nevertheless this cross result solves many problems from this point of view"
   ]
  },
  {
   "cell_type": "code",
   "execution_count": 1,
   "id": "136506e6",
   "metadata": {},
   "outputs": [],
   "source": [
    "import numpy as np"
   ]
  },
  {
   "cell_type": "code",
   "execution_count": 29,
   "id": "63a9b3a9",
   "metadata": {},
   "outputs": [],
   "source": [
    "def appointment_set(Appoint):\n",
    "    list1,list2,list3=[],[],[]\n",
    "    B=Appoint.copy()\n",
    "    time=0\n",
    "    try:\n",
    "        for i in range(0,len(Appoint),2):           #simple comparison of the two everyother lists\n",
    "            list1.append(Appoint[i])\n",
    "        for i in range(1,len(Appoint),2):\n",
    "            list2.append(Appoint[i])\n",
    "    except IndexError:\n",
    "        pass\n",
    "    \n",
    "    while time < len(B)/2:                        #greedy\n",
    "        m = max(B)\n",
    "        try:\n",
    "            list3.append(m)\n",
    "        except:\n",
    "            pass\n",
    "        try:\n",
    "            B[B.index(m)+1] = 0\n",
    "            B[B.index(m)-1] = 0\n",
    "            B[B.index(m)] = 0\n",
    "            B.remove(0)\n",
    "        except IndexError:\n",
    "            pass\n",
    "        time+=1\n",
    "    \n",
    "    if sum(list1)>= sum(list2) and sum(list1)>=sum(list3):\n",
    "        return list1\n",
    "    \n",
    "    if sum(list2)>= sum(list1) and sum(list2)>=sum(list3):\n",
    "        return list2\n",
    "    \n",
    "    if sum(list3)>= sum(list1) and sum(list3)>=sum(list2):\n",
    "        return list3"
   ]
  },
  {
   "cell_type": "code",
   "execution_count": 28,
   "id": "9b9dbf83",
   "metadata": {},
   "outputs": [
    {
     "name": "stdout",
     "output_type": "stream",
     "text": [
      "How many appointment requests are there? --->8\n",
      "Insert a value that correspond to the duration of the appointment  --->10\n",
      "Insert a value that correspond to the duration of the appointment  --->50\n",
      "Insert a value that correspond to the duration of the appointment  --->10\n",
      "Insert a value that correspond to the duration of the appointment  --->50\n",
      "Insert a value that correspond to the duration of the appointment  --->10\n",
      "Insert a value that correspond to the duration of the appointment  --->50\n",
      "Insert a value that correspond to the duration of the appointment  --->150\n",
      "Insert a value that correspond to the duration of the appointment  --->120\n",
      "[10, 50, 10, 50, 10, 50, 150, 120]\n"
     ]
    }
   ],
   "source": [
    "    n=int(input(\"How many appointment requests are there? --->\"))\n",
    "    l = []\n",
    "   \n",
    "    for i in range(1,n+1):\n",
    "        x=int(input(\"Insert a value that correspond to the duration of the appointment  --->\"))\n",
    "        l.append(x)\n",
    "        \n",
    "    print (l) #our list"
   ]
  },
  {
   "cell_type": "code",
   "execution_count": 30,
   "id": "60a4bcec",
   "metadata": {},
   "outputs": [
    {
     "data": {
      "text/plain": [
       "[10, 50, 10, 50, 10, 50, 150, 120]"
      ]
     },
     "execution_count": 30,
     "metadata": {},
     "output_type": "execute_result"
    }
   ],
   "source": [
    "l"
   ]
  },
  {
   "cell_type": "code",
   "execution_count": 31,
   "id": "a547dd2c",
   "metadata": {},
   "outputs": [
    {
     "data": {
      "text/plain": [
       "[50, 50, 50, 120]"
      ]
     },
     "execution_count": 31,
     "metadata": {},
     "output_type": "execute_result"
    }
   ],
   "source": [
    "appointment_set(l)"
   ]
  },
  {
   "cell_type": "markdown",
   "id": "e2a09665",
   "metadata": {},
   "source": [
    "[10, 50, 10, 50, 10, 50, 150, 120]\n",
    "[150, 50, 50]  = 250       ---> Algorithm greedy\n",
    "[50, 50, 50, 120]  = 270   ---> Simple every other i+1\n",
    "[10, 10, 10, 150]  = 180   ---> Simple every other"
   ]
  }
 ],
 "metadata": {
  "kernelspec": {
   "display_name": "Python 3",
   "language": "python",
   "name": "python3"
  },
  "language_info": {
   "codemirror_mode": {
    "name": "ipython",
    "version": 3
   },
   "file_extension": ".py",
   "mimetype": "text/x-python",
   "name": "python",
   "nbconvert_exporter": "python",
   "pygments_lexer": "ipython3",
   "version": "3.8.8"
  }
 },
 "nbformat": 4,
 "nbformat_minor": 5
}
